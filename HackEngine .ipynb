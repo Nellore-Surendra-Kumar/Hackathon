{
 "cells": [
  {
   "cell_type": "code",
   "execution_count": 1,
   "id": "f658cfcb",
   "metadata": {},
   "outputs": [],
   "source": [
    "import numpy as np\n",
    "import pandas as pd\n",
    "from matplotlib import pyplot as plt\n",
    "import seaborn as sns\n",
    "from sklearn.model_selection import train_test_split\n",
    "from sklearn.preprocessing import StandardScaler\n",
    "from sklearn.linear_model import LogisticRegression\n",
    "from sklearn.metrics import accuracy_score, classification_report, confusion_matrix\n",
    "from sklearn.ensemble import RandomForestRegressor\n",
    "from sklearn.inspection import permutation_importance\n",
    "from matplotlib import pyplot as plt"
   ]
  },
  {
   "cell_type": "code",
   "execution_count": 2,
   "id": "9b78c750",
   "metadata": {},
   "outputs": [],
   "source": [
    "df = pd.read_csv('engine_data.csv')"
   ]
  },
  {
   "cell_type": "code",
   "execution_count": 3,
   "id": "46b28531",
   "metadata": {},
   "outputs": [
    {
     "data": {
      "text/html": [
       "<div>\n",
       "<style scoped>\n",
       "    .dataframe tbody tr th:only-of-type {\n",
       "        vertical-align: middle;\n",
       "    }\n",
       "\n",
       "    .dataframe tbody tr th {\n",
       "        vertical-align: top;\n",
       "    }\n",
       "\n",
       "    .dataframe thead th {\n",
       "        text-align: right;\n",
       "    }\n",
       "</style>\n",
       "<table border=\"1\" class=\"dataframe\">\n",
       "  <thead>\n",
       "    <tr style=\"text-align: right;\">\n",
       "      <th></th>\n",
       "      <th>Actual Engine - Percent Torque (%)</th>\n",
       "      <th>Engine Speed (rpm)</th>\n",
       "      <th>Engine Demand Percent Torque (%)</th>\n",
       "      <th>Driver's Demand Engine - Percent Torque (%)</th>\n",
       "      <th>Engine's Desired Operating Speed (rpm)</th>\n",
       "      <th>Engine Turbocharger 1 Speed (rpm)</th>\n",
       "      <th>Engine Trip Fuel (l)</th>\n",
       "      <th>Wheel-Based Vehicle Speed (kph)</th>\n",
       "      <th>Engine Moment of Inertia (kgm)</th>\n",
       "      <th>Engine Reference Torque (Nm)</th>\n",
       "      <th>Engine Default Torque Limit (Nm)</th>\n",
       "      <th>FixType</th>\n",
       "    </tr>\n",
       "  </thead>\n",
       "  <tbody>\n",
       "    <tr>\n",
       "      <th>count</th>\n",
       "      <td>4187.000000</td>\n",
       "      <td>4187.000000</td>\n",
       "      <td>4187.000000</td>\n",
       "      <td>4187.000000</td>\n",
       "      <td>4187.000000</td>\n",
       "      <td>4187.000000</td>\n",
       "      <td>4187.000000</td>\n",
       "      <td>4187.000000</td>\n",
       "      <td>4187.000000</td>\n",
       "      <td>4187.000000</td>\n",
       "      <td>4187.0</td>\n",
       "      <td>4187.000000</td>\n",
       "    </tr>\n",
       "    <tr>\n",
       "      <th>mean</th>\n",
       "      <td>21.150705</td>\n",
       "      <td>1005.352878</td>\n",
       "      <td>21.520898</td>\n",
       "      <td>20.547170</td>\n",
       "      <td>607.828995</td>\n",
       "      <td>38721.016480</td>\n",
       "      <td>69.404227</td>\n",
       "      <td>170.174929</td>\n",
       "      <td>259.330757</td>\n",
       "      <td>11036.731311</td>\n",
       "      <td>65535.0</td>\n",
       "      <td>0.999522</td>\n",
       "    </tr>\n",
       "    <tr>\n",
       "      <th>std</th>\n",
       "      <td>23.416419</td>\n",
       "      <td>444.134654</td>\n",
       "      <td>23.458571</td>\n",
       "      <td>29.926935</td>\n",
       "      <td>9.542892</td>\n",
       "      <td>30574.426765</td>\n",
       "      <td>7.474436</td>\n",
       "      <td>113.271136</td>\n",
       "      <td>22.669932</td>\n",
       "      <td>784.117461</td>\n",
       "      <td>0.0</td>\n",
       "      <td>0.021853</td>\n",
       "    </tr>\n",
       "    <tr>\n",
       "      <th>min</th>\n",
       "      <td>0.000000</td>\n",
       "      <td>0.000000</td>\n",
       "      <td>0.000000</td>\n",
       "      <td>0.000000</td>\n",
       "      <td>0.000000</td>\n",
       "      <td>0.000000</td>\n",
       "      <td>54.000000</td>\n",
       "      <td>0.000000</td>\n",
       "      <td>1.040000</td>\n",
       "      <td>2300.000000</td>\n",
       "      <td>65535.0</td>\n",
       "      <td>0.000000</td>\n",
       "    </tr>\n",
       "    <tr>\n",
       "      <th>25%</th>\n",
       "      <td>6.000000</td>\n",
       "      <td>600.100000</td>\n",
       "      <td>6.000000</td>\n",
       "      <td>0.000000</td>\n",
       "      <td>608.000000</td>\n",
       "      <td>11772.000000</td>\n",
       "      <td>66.000000</td>\n",
       "      <td>27.062500</td>\n",
       "      <td>261.320000</td>\n",
       "      <td>11104.000000</td>\n",
       "      <td>65535.0</td>\n",
       "      <td>1.000000</td>\n",
       "    </tr>\n",
       "    <tr>\n",
       "      <th>50%</th>\n",
       "      <td>7.000000</td>\n",
       "      <td>775.900000</td>\n",
       "      <td>8.000000</td>\n",
       "      <td>0.000000</td>\n",
       "      <td>608.000000</td>\n",
       "      <td>32092.000000</td>\n",
       "      <td>70.000000</td>\n",
       "      <td>255.996000</td>\n",
       "      <td>261.320000</td>\n",
       "      <td>11104.000000</td>\n",
       "      <td>65535.0</td>\n",
       "      <td>1.000000</td>\n",
       "    </tr>\n",
       "    <tr>\n",
       "      <th>75%</th>\n",
       "      <td>36.000000</td>\n",
       "      <td>1442.500000</td>\n",
       "      <td>36.000000</td>\n",
       "      <td>37.000000</td>\n",
       "      <td>608.000000</td>\n",
       "      <td>60916.000000</td>\n",
       "      <td>75.000000</td>\n",
       "      <td>255.996000</td>\n",
       "      <td>261.320000</td>\n",
       "      <td>11104.000000</td>\n",
       "      <td>65535.0</td>\n",
       "      <td>1.000000</td>\n",
       "    </tr>\n",
       "    <tr>\n",
       "      <th>max</th>\n",
       "      <td>99.000000</td>\n",
       "      <td>1832.500000</td>\n",
       "      <td>99.000000</td>\n",
       "      <td>100.000000</td>\n",
       "      <td>608.000000</td>\n",
       "      <td>262140.000000</td>\n",
       "      <td>80.000000</td>\n",
       "      <td>255.996000</td>\n",
       "      <td>261.320000</td>\n",
       "      <td>13696.000000</td>\n",
       "      <td>65535.0</td>\n",
       "      <td>1.000000</td>\n",
       "    </tr>\n",
       "  </tbody>\n",
       "</table>\n",
       "</div>"
      ],
      "text/plain": [
       "       Actual Engine - Percent Torque (%)  Engine Speed (rpm)  \\\n",
       "count                         4187.000000         4187.000000   \n",
       "mean                            21.150705         1005.352878   \n",
       "std                             23.416419          444.134654   \n",
       "min                              0.000000            0.000000   \n",
       "25%                              6.000000          600.100000   \n",
       "50%                              7.000000          775.900000   \n",
       "75%                             36.000000         1442.500000   \n",
       "max                             99.000000         1832.500000   \n",
       "\n",
       "       Engine Demand Percent Torque (%)  \\\n",
       "count                       4187.000000   \n",
       "mean                          21.520898   \n",
       "std                           23.458571   \n",
       "min                            0.000000   \n",
       "25%                            6.000000   \n",
       "50%                            8.000000   \n",
       "75%                           36.000000   \n",
       "max                           99.000000   \n",
       "\n",
       "       Driver's Demand Engine - Percent Torque (%)  \\\n",
       "count                                  4187.000000   \n",
       "mean                                     20.547170   \n",
       "std                                      29.926935   \n",
       "min                                       0.000000   \n",
       "25%                                       0.000000   \n",
       "50%                                       0.000000   \n",
       "75%                                      37.000000   \n",
       "max                                     100.000000   \n",
       "\n",
       "       Engine's Desired Operating Speed (rpm)  \\\n",
       "count                             4187.000000   \n",
       "mean                               607.828995   \n",
       "std                                  9.542892   \n",
       "min                                  0.000000   \n",
       "25%                                608.000000   \n",
       "50%                                608.000000   \n",
       "75%                                608.000000   \n",
       "max                                608.000000   \n",
       "\n",
       "       Engine Turbocharger 1 Speed (rpm)  Engine Trip Fuel (l)  \\\n",
       "count                        4187.000000           4187.000000   \n",
       "mean                        38721.016480             69.404227   \n",
       "std                         30574.426765              7.474436   \n",
       "min                             0.000000             54.000000   \n",
       "25%                         11772.000000             66.000000   \n",
       "50%                         32092.000000             70.000000   \n",
       "75%                         60916.000000             75.000000   \n",
       "max                        262140.000000             80.000000   \n",
       "\n",
       "       Wheel-Based Vehicle Speed (kph)  Engine Moment of Inertia (kgm)  \\\n",
       "count                      4187.000000                     4187.000000   \n",
       "mean                        170.174929                      259.330757   \n",
       "std                         113.271136                       22.669932   \n",
       "min                           0.000000                        1.040000   \n",
       "25%                          27.062500                      261.320000   \n",
       "50%                         255.996000                      261.320000   \n",
       "75%                         255.996000                      261.320000   \n",
       "max                         255.996000                      261.320000   \n",
       "\n",
       "       Engine Reference Torque (Nm)  Engine Default Torque Limit (Nm)  \\\n",
       "count                   4187.000000                            4187.0   \n",
       "mean                   11036.731311                           65535.0   \n",
       "std                      784.117461                               0.0   \n",
       "min                     2300.000000                           65535.0   \n",
       "25%                    11104.000000                           65535.0   \n",
       "50%                    11104.000000                           65535.0   \n",
       "75%                    11104.000000                           65535.0   \n",
       "max                    13696.000000                           65535.0   \n",
       "\n",
       "           FixType  \n",
       "count  4187.000000  \n",
       "mean      0.999522  \n",
       "std       0.021853  \n",
       "min       0.000000  \n",
       "25%       1.000000  \n",
       "50%       1.000000  \n",
       "75%       1.000000  \n",
       "max       1.000000  "
      ]
     },
     "execution_count": 3,
     "metadata": {},
     "output_type": "execute_result"
    }
   ],
   "source": [
    "df.describe()"
   ]
  },
  {
   "cell_type": "code",
   "execution_count": 4,
   "id": "7f01bf48",
   "metadata": {},
   "outputs": [
    {
     "data": {
      "text/plain": [
       "Actual Engine - Percent Torque (%)             0\n",
       "Engine Speed (rpm)                             0\n",
       "Engine Demand Percent Torque (%)               0\n",
       "Driver's Demand Engine - Percent Torque (%)    0\n",
       "Engine's Desired Operating Speed (rpm)         0\n",
       "Engine Turbocharger 1 Speed (rpm)              0\n",
       "Engine Trip Fuel (l)                           0\n",
       "Wheel-Based Vehicle Speed (kph)                0\n",
       "Engine Moment of Inertia (kgm)                 0\n",
       "Engine Reference Torque (Nm)                   0\n",
       "Engine Default Torque Limit (Nm)               0\n",
       "FixType                                        0\n",
       "dtype: int64"
      ]
     },
     "execution_count": 4,
     "metadata": {},
     "output_type": "execute_result"
    }
   ],
   "source": [
    "df.isnull().sum()"
   ]
  },
  {
   "cell_type": "code",
   "execution_count": 5,
   "id": "a276883c",
   "metadata": {},
   "outputs": [
    {
     "name": "stdout",
     "output_type": "stream",
     "text": [
      "<class 'pandas.core.frame.DataFrame'>\n",
      "RangeIndex: 4187 entries, 0 to 4186\n",
      "Data columns (total 12 columns):\n",
      " #   Column                                       Non-Null Count  Dtype  \n",
      "---  ------                                       --------------  -----  \n",
      " 0   Actual Engine - Percent Torque (%)           4187 non-null   int64  \n",
      " 1   Engine Speed (rpm)                           4187 non-null   float64\n",
      " 2   Engine Demand Percent Torque (%)             4187 non-null   int64  \n",
      " 3   Driver's Demand Engine - Percent Torque (%)  4187 non-null   int64  \n",
      " 4   Engine's Desired Operating Speed (rpm)       4187 non-null   int64  \n",
      " 5   Engine Turbocharger 1 Speed (rpm)            4187 non-null   int64  \n",
      " 6   Engine Trip Fuel (l)                         4187 non-null   float64\n",
      " 7   Wheel-Based Vehicle Speed (kph)              4187 non-null   float64\n",
      " 8   Engine Moment of Inertia (kgm)               4187 non-null   float64\n",
      " 9   Engine Reference Torque (Nm)                 4187 non-null   int64  \n",
      " 10  Engine Default Torque Limit (Nm)             4187 non-null   int64  \n",
      " 11  FixType                                      4187 non-null   int64  \n",
      "dtypes: float64(4), int64(8)\n",
      "memory usage: 392.7 KB\n"
     ]
    }
   ],
   "source": [
    "df.info()"
   ]
  },
  {
   "cell_type": "code",
   "execution_count": 6,
   "id": "5cbedc01",
   "metadata": {},
   "outputs": [
    {
     "data": {
      "text/html": [
       "<div>\n",
       "<style scoped>\n",
       "    .dataframe tbody tr th:only-of-type {\n",
       "        vertical-align: middle;\n",
       "    }\n",
       "\n",
       "    .dataframe tbody tr th {\n",
       "        vertical-align: top;\n",
       "    }\n",
       "\n",
       "    .dataframe thead th {\n",
       "        text-align: right;\n",
       "    }\n",
       "</style>\n",
       "<table border=\"1\" class=\"dataframe\">\n",
       "  <thead>\n",
       "    <tr style=\"text-align: right;\">\n",
       "      <th></th>\n",
       "      <th>Actual Engine - Percent Torque (%)</th>\n",
       "      <th>Engine Speed (rpm)</th>\n",
       "      <th>Engine Demand Percent Torque (%)</th>\n",
       "      <th>Driver's Demand Engine - Percent Torque (%)</th>\n",
       "      <th>Engine's Desired Operating Speed (rpm)</th>\n",
       "      <th>Engine Turbocharger 1 Speed (rpm)</th>\n",
       "      <th>Engine Trip Fuel (l)</th>\n",
       "      <th>Wheel-Based Vehicle Speed (kph)</th>\n",
       "      <th>Engine Moment of Inertia (kgm)</th>\n",
       "      <th>Engine Reference Torque (Nm)</th>\n",
       "      <th>Engine Default Torque Limit (Nm)</th>\n",
       "      <th>FixType</th>\n",
       "    </tr>\n",
       "  </thead>\n",
       "  <tbody>\n",
       "    <tr>\n",
       "      <th>0</th>\n",
       "      <td>7</td>\n",
       "      <td>600.8</td>\n",
       "      <td>8</td>\n",
       "      <td>0</td>\n",
       "      <td>608</td>\n",
       "      <td>38744</td>\n",
       "      <td>69.0</td>\n",
       "      <td>255.996</td>\n",
       "      <td>261.32</td>\n",
       "      <td>11104</td>\n",
       "      <td>65535</td>\n",
       "      <td>0</td>\n",
       "    </tr>\n",
       "    <tr>\n",
       "      <th>1</th>\n",
       "      <td>7</td>\n",
       "      <td>600.6</td>\n",
       "      <td>8</td>\n",
       "      <td>0</td>\n",
       "      <td>608</td>\n",
       "      <td>10560</td>\n",
       "      <td>54.0</td>\n",
       "      <td>255.996</td>\n",
       "      <td>261.32</td>\n",
       "      <td>11104</td>\n",
       "      <td>65535</td>\n",
       "      <td>0</td>\n",
       "    </tr>\n",
       "    <tr>\n",
       "      <th>2</th>\n",
       "      <td>7</td>\n",
       "      <td>600.4</td>\n",
       "      <td>8</td>\n",
       "      <td>0</td>\n",
       "      <td>608</td>\n",
       "      <td>10500</td>\n",
       "      <td>54.0</td>\n",
       "      <td>255.996</td>\n",
       "      <td>261.32</td>\n",
       "      <td>11104</td>\n",
       "      <td>65535</td>\n",
       "      <td>1</td>\n",
       "    </tr>\n",
       "    <tr>\n",
       "      <th>3</th>\n",
       "      <td>7</td>\n",
       "      <td>600.6</td>\n",
       "      <td>8</td>\n",
       "      <td>0</td>\n",
       "      <td>608</td>\n",
       "      <td>10412</td>\n",
       "      <td>54.0</td>\n",
       "      <td>255.996</td>\n",
       "      <td>261.32</td>\n",
       "      <td>11104</td>\n",
       "      <td>65535</td>\n",
       "      <td>1</td>\n",
       "    </tr>\n",
       "    <tr>\n",
       "      <th>4</th>\n",
       "      <td>7</td>\n",
       "      <td>600.4</td>\n",
       "      <td>8</td>\n",
       "      <td>0</td>\n",
       "      <td>608</td>\n",
       "      <td>10408</td>\n",
       "      <td>54.0</td>\n",
       "      <td>255.996</td>\n",
       "      <td>261.32</td>\n",
       "      <td>11104</td>\n",
       "      <td>65535</td>\n",
       "      <td>1</td>\n",
       "    </tr>\n",
       "    <tr>\n",
       "      <th>...</th>\n",
       "      <td>...</td>\n",
       "      <td>...</td>\n",
       "      <td>...</td>\n",
       "      <td>...</td>\n",
       "      <td>...</td>\n",
       "      <td>...</td>\n",
       "      <td>...</td>\n",
       "      <td>...</td>\n",
       "      <td>...</td>\n",
       "      <td>...</td>\n",
       "      <td>...</td>\n",
       "      <td>...</td>\n",
       "    </tr>\n",
       "    <tr>\n",
       "      <th>4182</th>\n",
       "      <td>0</td>\n",
       "      <td>0.0</td>\n",
       "      <td>0</td>\n",
       "      <td>0</td>\n",
       "      <td>608</td>\n",
       "      <td>2432</td>\n",
       "      <td>69.0</td>\n",
       "      <td>255.996</td>\n",
       "      <td>1.04</td>\n",
       "      <td>2300</td>\n",
       "      <td>65535</td>\n",
       "      <td>1</td>\n",
       "    </tr>\n",
       "    <tr>\n",
       "      <th>4183</th>\n",
       "      <td>0</td>\n",
       "      <td>0.0</td>\n",
       "      <td>0</td>\n",
       "      <td>0</td>\n",
       "      <td>608</td>\n",
       "      <td>2328</td>\n",
       "      <td>69.0</td>\n",
       "      <td>255.996</td>\n",
       "      <td>261.32</td>\n",
       "      <td>11104</td>\n",
       "      <td>65535</td>\n",
       "      <td>1</td>\n",
       "    </tr>\n",
       "    <tr>\n",
       "      <th>4184</th>\n",
       "      <td>0</td>\n",
       "      <td>0.0</td>\n",
       "      <td>0</td>\n",
       "      <td>0</td>\n",
       "      <td>608</td>\n",
       "      <td>2224</td>\n",
       "      <td>69.0</td>\n",
       "      <td>255.996</td>\n",
       "      <td>261.32</td>\n",
       "      <td>11104</td>\n",
       "      <td>65535</td>\n",
       "      <td>1</td>\n",
       "    </tr>\n",
       "    <tr>\n",
       "      <th>4185</th>\n",
       "      <td>0</td>\n",
       "      <td>0.0</td>\n",
       "      <td>0</td>\n",
       "      <td>0</td>\n",
       "      <td>608</td>\n",
       "      <td>38744</td>\n",
       "      <td>69.0</td>\n",
       "      <td>255.996</td>\n",
       "      <td>261.32</td>\n",
       "      <td>11104</td>\n",
       "      <td>65535</td>\n",
       "      <td>1</td>\n",
       "    </tr>\n",
       "    <tr>\n",
       "      <th>4186</th>\n",
       "      <td>0</td>\n",
       "      <td>0.0</td>\n",
       "      <td>0</td>\n",
       "      <td>0</td>\n",
       "      <td>608</td>\n",
       "      <td>38744</td>\n",
       "      <td>69.0</td>\n",
       "      <td>255.996</td>\n",
       "      <td>261.32</td>\n",
       "      <td>11104</td>\n",
       "      <td>65535</td>\n",
       "      <td>1</td>\n",
       "    </tr>\n",
       "  </tbody>\n",
       "</table>\n",
       "<p>4187 rows × 12 columns</p>\n",
       "</div>"
      ],
      "text/plain": [
       "      Actual Engine - Percent Torque (%)  Engine Speed (rpm)  \\\n",
       "0                                      7               600.8   \n",
       "1                                      7               600.6   \n",
       "2                                      7               600.4   \n",
       "3                                      7               600.6   \n",
       "4                                      7               600.4   \n",
       "...                                  ...                 ...   \n",
       "4182                                   0                 0.0   \n",
       "4183                                   0                 0.0   \n",
       "4184                                   0                 0.0   \n",
       "4185                                   0                 0.0   \n",
       "4186                                   0                 0.0   \n",
       "\n",
       "      Engine Demand Percent Torque (%)  \\\n",
       "0                                    8   \n",
       "1                                    8   \n",
       "2                                    8   \n",
       "3                                    8   \n",
       "4                                    8   \n",
       "...                                ...   \n",
       "4182                                 0   \n",
       "4183                                 0   \n",
       "4184                                 0   \n",
       "4185                                 0   \n",
       "4186                                 0   \n",
       "\n",
       "      Driver's Demand Engine - Percent Torque (%)  \\\n",
       "0                                               0   \n",
       "1                                               0   \n",
       "2                                               0   \n",
       "3                                               0   \n",
       "4                                               0   \n",
       "...                                           ...   \n",
       "4182                                            0   \n",
       "4183                                            0   \n",
       "4184                                            0   \n",
       "4185                                            0   \n",
       "4186                                            0   \n",
       "\n",
       "      Engine's Desired Operating Speed (rpm)  \\\n",
       "0                                        608   \n",
       "1                                        608   \n",
       "2                                        608   \n",
       "3                                        608   \n",
       "4                                        608   \n",
       "...                                      ...   \n",
       "4182                                     608   \n",
       "4183                                     608   \n",
       "4184                                     608   \n",
       "4185                                     608   \n",
       "4186                                     608   \n",
       "\n",
       "      Engine Turbocharger 1 Speed (rpm)  Engine Trip Fuel (l)  \\\n",
       "0                                 38744                  69.0   \n",
       "1                                 10560                  54.0   \n",
       "2                                 10500                  54.0   \n",
       "3                                 10412                  54.0   \n",
       "4                                 10408                  54.0   \n",
       "...                                 ...                   ...   \n",
       "4182                               2432                  69.0   \n",
       "4183                               2328                  69.0   \n",
       "4184                               2224                  69.0   \n",
       "4185                              38744                  69.0   \n",
       "4186                              38744                  69.0   \n",
       "\n",
       "      Wheel-Based Vehicle Speed (kph)  Engine Moment of Inertia (kgm)  \\\n",
       "0                             255.996                          261.32   \n",
       "1                             255.996                          261.32   \n",
       "2                             255.996                          261.32   \n",
       "3                             255.996                          261.32   \n",
       "4                             255.996                          261.32   \n",
       "...                               ...                             ...   \n",
       "4182                          255.996                            1.04   \n",
       "4183                          255.996                          261.32   \n",
       "4184                          255.996                          261.32   \n",
       "4185                          255.996                          261.32   \n",
       "4186                          255.996                          261.32   \n",
       "\n",
       "      Engine Reference Torque (Nm)  Engine Default Torque Limit (Nm)  FixType  \n",
       "0                            11104                             65535        0  \n",
       "1                            11104                             65535        0  \n",
       "2                            11104                             65535        1  \n",
       "3                            11104                             65535        1  \n",
       "4                            11104                             65535        1  \n",
       "...                            ...                               ...      ...  \n",
       "4182                          2300                             65535        1  \n",
       "4183                         11104                             65535        1  \n",
       "4184                         11104                             65535        1  \n",
       "4185                         11104                             65535        1  \n",
       "4186                         11104                             65535        1  \n",
       "\n",
       "[4187 rows x 12 columns]"
      ]
     },
     "execution_count": 6,
     "metadata": {},
     "output_type": "execute_result"
    }
   ],
   "source": [
    "df"
   ]
  },
  {
   "cell_type": "code",
   "execution_count": 7,
   "id": "ff3d1d51",
   "metadata": {},
   "outputs": [],
   "source": [
    "#df[\"Engine Turbocharger 1 Speed (rpm)\"].mean()"
   ]
  },
  {
   "cell_type": "code",
   "execution_count": 8,
   "id": "d9cbb765",
   "metadata": {},
   "outputs": [],
   "source": [
    "#df[\"Engine Trip Fuel (l)\"].mean()"
   ]
  },
  {
   "cell_type": "code",
   "execution_count": 9,
   "id": "fc1bb971",
   "metadata": {},
   "outputs": [],
   "source": [
    "#df[\"Engine Reference Torque (Nm)\"].mean()"
   ]
  },
  {
   "cell_type": "code",
   "execution_count": 7,
   "id": "ca7fca1e",
   "metadata": {},
   "outputs": [
    {
     "data": {
      "text/plain": [
       "(4187, 12)"
      ]
     },
     "execution_count": 7,
     "metadata": {},
     "output_type": "execute_result"
    }
   ],
   "source": [
    "df.shape"
   ]
  },
  {
   "cell_type": "code",
   "execution_count": 11,
   "id": "0f3108c0",
   "metadata": {},
   "outputs": [],
   "source": [
    "# def remove_outliers(column):\n",
    "#     z_scores = np.abs((column - column.mean()) / column.std())\n",
    "#     return column[(z_scores < 2)]  # Adjust the threshold as needed\n",
    "\n",
    "# for col in df.columns:\n",
    "#     df[col] = remove_outliers(df[col])\n",
    "# print(df)"
   ]
  },
  {
   "cell_type": "code",
   "execution_count": 12,
   "id": "549368e5",
   "metadata": {},
   "outputs": [],
   "source": [
    "# corr = df.corr()\n",
    "# plt.figure(figsize=(12,8))\n",
    "# sns.heatmap(corr, cmap=\"Greens\",annot=True)"
   ]
  },
  {
   "cell_type": "code",
   "execution_count": 8,
   "id": "82a8cdea",
   "metadata": {},
   "outputs": [],
   "source": [
    "X=df[[\"Actual Engine - Percent Torque (%)\",\"Engine Speed (rpm)\",\"Engine Demand Percent Torque (%)\",\"Driver's Demand Engine - Percent Torque (%)\",\"Engine's Desired Operating Speed (rpm)\",\"Engine Turbocharger 1 Speed (rpm)\",'Engine Trip Fuel (l)','Wheel-Based Vehicle Speed (kph)','Engine Moment of Inertia (kgm)','Engine Reference Torque (Nm)']]\n",
    "y=df['FixType']"
   ]
  },
  {
   "cell_type": "code",
   "execution_count": 9,
   "id": "0f8f893a",
   "metadata": {},
   "outputs": [
    {
     "data": {
      "text/plain": [
       "(4187, 10)"
      ]
     },
     "execution_count": 9,
     "metadata": {},
     "output_type": "execute_result"
    }
   ],
   "source": [
    "X.shape"
   ]
  },
  {
   "cell_type": "code",
   "execution_count": 14,
   "id": "ea3ba30e",
   "metadata": {},
   "outputs": [],
   "source": [
    "# import pandas as pd\n",
    "# from sklearn.datasets import make_classification\n",
    "# from imblearn.over_sampling import SMOTE\n",
    "\n",
    "# # Generate a synthetic imbalanced dataset (you should replace this with your own dataset)\n",
    "# X, y = make_classification(n_classes=2, class_sep=2, weights=[0.1, 0.9], n_informative=3, n_redundant=1, flip_y=0, n_features=5, n_clusters_per_class=1, n_samples=100, random_state=42)\n",
    "\n",
    "# # Check the class distribution before SMOTE\n",
    "# print(\"Class distribution before SMOTE:\", Counter(y))\n",
    "\n",
    "# # Calculate the target count of the minority class\n",
    "# target_count = Counter(y)[1]\n",
    "\n",
    "# # Calculate the number of synthetic samples needed\n",
    "# synthetic_samples_needed = target_count - Counter(y)[0]\n",
    "\n",
    "# # Create an instance of SMOTE with a custom sampling strategy\n",
    "# smote = SMOTE(sampling_strategy={0: synthetic_samples_needed}, random_state=42)\n",
    "\n",
    "# # Apply SMOTE to oversample the minority class\n",
    "# X_resampled, y_resampled = smote.fit_resample(X, y)\n",
    "\n",
    "# # Check the class distribution after SMOTE\n",
    "# print(\"Class distribution after SMOTE:\", Counter(y_resampled))\n"
   ]
  },
  {
   "cell_type": "code",
   "execution_count": 10,
   "id": "eef0f019",
   "metadata": {},
   "outputs": [],
   "source": [
    "from collections import Counter"
   ]
  },
  {
   "cell_type": "code",
   "execution_count": 12,
   "id": "ef342ff4",
   "metadata": {},
   "outputs": [
    {
     "data": {
      "text/plain": [
       "10"
      ]
     },
     "execution_count": 12,
     "metadata": {},
     "output_type": "execute_result"
    }
   ],
   "source": [
    "X.shape[1]"
   ]
  },
  {
   "cell_type": "code",
   "execution_count": 13,
   "id": "44906f12",
   "metadata": {},
   "outputs": [
    {
     "name": "stdout",
     "output_type": "stream",
     "text": [
      "Class distribution before SMOTE: Counter({1: 3768, 0: 419})\n",
      "Class distribution after SMOTE: Counter({1: 3768, 0: 3349})\n"
     ]
    }
   ],
   "source": [
    "import pandas as pd\n",
    "from sklearn.datasets import make_classification\n",
    "from imblearn.over_sampling import SMOTE\n",
    "\n",
    "# Generate a synthetic imbalanced dataset (you should replace this with your own dataset)\n",
    "X, y = make_classification(n_classes=2, class_sep=2, weights=[0.1, 0.9], n_informative=3, n_redundant=1, flip_y=0, n_features=10, n_clusters_per_class=1, n_samples=X.shape[0], random_state=42)\n",
    "\n",
    "# Check the class distribution before SMOTE\n",
    "print(\"Class distribution before SMOTE:\", Counter(y))\n",
    "\n",
    "# Calculate the target count of the minority class\n",
    "target_count = Counter(y)[1]\n",
    "\n",
    "# Calculate the number of synthetic samples needed\n",
    "synthetic_samples_needed = target_count - Counter(y)[0]\n",
    "\n",
    "# Create an instance of SMOTE with a custom sampling strategy\n",
    "smote = SMOTE(sampling_strategy={0: synthetic_samples_needed}, random_state=42)\n",
    "\n",
    "# Apply SMOTE to oversample the minority class\n",
    "X_resampled, y_resampled = smote.fit_resample(X, y)\n",
    "\n",
    "# Check the class distribution after SMOTE\n",
    "print(\"Class distribution after SMOTE:\", Counter(y_resampled))"
   ]
  },
  {
   "cell_type": "code",
   "execution_count": 14,
   "id": "cbe7c4d6",
   "metadata": {},
   "outputs": [],
   "source": [
    "from sklearn.ensemble import RandomForestClassifier\n",
    "\n",
    "# # Create a RandomForestClassifier\n",
    "# rf_classifier = RandomForestClassifier(n_estimators=100, random_state=42)\n",
    "\n",
    "# # Fit the classifier on your data\n",
    "# rf_classifier.fit(X, y)\n",
    "\n",
    "# # Get feature importances\n",
    "# feature_importances = rf_classifier.feature_importances_\n",
    "\n",
    "# # Create a DataFrame to display feature importances alongside feature names\n",
    "# importance_df = pd.DataFrame({'Feature': X.columns, 'Importance': feature_importances})\n",
    "\n",
    "# # Sort the DataFrame by importance in descending order\n",
    "# importance_df = importance_df.sort_values(by='Importance', ascending=False)\n",
    "\n",
    "# # Display the feature importances\n",
    "# print(importance_df)\n"
   ]
  },
  {
   "cell_type": "code",
   "execution_count": 15,
   "id": "944b49e3",
   "metadata": {},
   "outputs": [],
   "source": [
    "# X=df[[\"Actual Engine - Percent Torque (%)\",\"Engine Speed (rpm)\",\"Engine Demand Percent Torque (%)\",\"Driver's Demand Engine - Percent Torque (%)\",\"Engine Turbocharger 1 Speed (rpm)\",'Engine Trip Fuel (l)','Engine Reference Torque (Nm)']]\n",
    "# y=df['FixType']"
   ]
  },
  {
   "cell_type": "code",
   "execution_count": 16,
   "id": "f23e9166",
   "metadata": {},
   "outputs": [],
   "source": [
    "X_train,x_test,y_train,y_test=train_test_split(X,y,test_size=0.2, random_state=42)"
   ]
  },
  {
   "cell_type": "code",
   "execution_count": 17,
   "id": "a5dad93e",
   "metadata": {},
   "outputs": [
    {
     "data": {
      "text/html": [
       "<style>#sk-container-id-1 {color: black;background-color: white;}#sk-container-id-1 pre{padding: 0;}#sk-container-id-1 div.sk-toggleable {background-color: white;}#sk-container-id-1 label.sk-toggleable__label {cursor: pointer;display: block;width: 100%;margin-bottom: 0;padding: 0.3em;box-sizing: border-box;text-align: center;}#sk-container-id-1 label.sk-toggleable__label-arrow:before {content: \"▸\";float: left;margin-right: 0.25em;color: #696969;}#sk-container-id-1 label.sk-toggleable__label-arrow:hover:before {color: black;}#sk-container-id-1 div.sk-estimator:hover label.sk-toggleable__label-arrow:before {color: black;}#sk-container-id-1 div.sk-toggleable__content {max-height: 0;max-width: 0;overflow: hidden;text-align: left;background-color: #f0f8ff;}#sk-container-id-1 div.sk-toggleable__content pre {margin: 0.2em;color: black;border-radius: 0.25em;background-color: #f0f8ff;}#sk-container-id-1 input.sk-toggleable__control:checked~div.sk-toggleable__content {max-height: 200px;max-width: 100%;overflow: auto;}#sk-container-id-1 input.sk-toggleable__control:checked~label.sk-toggleable__label-arrow:before {content: \"▾\";}#sk-container-id-1 div.sk-estimator input.sk-toggleable__control:checked~label.sk-toggleable__label {background-color: #d4ebff;}#sk-container-id-1 div.sk-label input.sk-toggleable__control:checked~label.sk-toggleable__label {background-color: #d4ebff;}#sk-container-id-1 input.sk-hidden--visually {border: 0;clip: rect(1px 1px 1px 1px);clip: rect(1px, 1px, 1px, 1px);height: 1px;margin: -1px;overflow: hidden;padding: 0;position: absolute;width: 1px;}#sk-container-id-1 div.sk-estimator {font-family: monospace;background-color: #f0f8ff;border: 1px dotted black;border-radius: 0.25em;box-sizing: border-box;margin-bottom: 0.5em;}#sk-container-id-1 div.sk-estimator:hover {background-color: #d4ebff;}#sk-container-id-1 div.sk-parallel-item::after {content: \"\";width: 100%;border-bottom: 1px solid gray;flex-grow: 1;}#sk-container-id-1 div.sk-label:hover label.sk-toggleable__label {background-color: #d4ebff;}#sk-container-id-1 div.sk-serial::before {content: \"\";position: absolute;border-left: 1px solid gray;box-sizing: border-box;top: 0;bottom: 0;left: 50%;z-index: 0;}#sk-container-id-1 div.sk-serial {display: flex;flex-direction: column;align-items: center;background-color: white;padding-right: 0.2em;padding-left: 0.2em;position: relative;}#sk-container-id-1 div.sk-item {position: relative;z-index: 1;}#sk-container-id-1 div.sk-parallel {display: flex;align-items: stretch;justify-content: center;background-color: white;position: relative;}#sk-container-id-1 div.sk-item::before, #sk-container-id-1 div.sk-parallel-item::before {content: \"\";position: absolute;border-left: 1px solid gray;box-sizing: border-box;top: 0;bottom: 0;left: 50%;z-index: -1;}#sk-container-id-1 div.sk-parallel-item {display: flex;flex-direction: column;z-index: 1;position: relative;background-color: white;}#sk-container-id-1 div.sk-parallel-item:first-child::after {align-self: flex-end;width: 50%;}#sk-container-id-1 div.sk-parallel-item:last-child::after {align-self: flex-start;width: 50%;}#sk-container-id-1 div.sk-parallel-item:only-child::after {width: 0;}#sk-container-id-1 div.sk-dashed-wrapped {border: 1px dashed gray;margin: 0 0.4em 0.5em 0.4em;box-sizing: border-box;padding-bottom: 0.4em;background-color: white;}#sk-container-id-1 div.sk-label label {font-family: monospace;font-weight: bold;display: inline-block;line-height: 1.2em;}#sk-container-id-1 div.sk-label-container {text-align: center;}#sk-container-id-1 div.sk-container {/* jupyter's `normalize.less` sets `[hidden] { display: none; }` but bootstrap.min.css set `[hidden] { display: none !important; }` so we also need the `!important` here to be able to override the default hidden behavior on the sphinx rendered scikit-learn.org. See: https://github.com/scikit-learn/scikit-learn/issues/21755 */display: inline-block !important;position: relative;}#sk-container-id-1 div.sk-text-repr-fallback {display: none;}</style><div id=\"sk-container-id-1\" class=\"sk-top-container\"><div class=\"sk-text-repr-fallback\"><pre>RandomForestClassifier()</pre><b>In a Jupyter environment, please rerun this cell to show the HTML representation or trust the notebook. <br />On GitHub, the HTML representation is unable to render, please try loading this page with nbviewer.org.</b></div><div class=\"sk-container\" hidden><div class=\"sk-item\"><div class=\"sk-estimator sk-toggleable\"><input class=\"sk-toggleable__control sk-hidden--visually\" id=\"sk-estimator-id-1\" type=\"checkbox\" checked><label for=\"sk-estimator-id-1\" class=\"sk-toggleable__label sk-toggleable__label-arrow\">RandomForestClassifier</label><div class=\"sk-toggleable__content\"><pre>RandomForestClassifier()</pre></div></div></div></div></div>"
      ],
      "text/plain": [
       "RandomForestClassifier()"
      ]
     },
     "execution_count": 17,
     "metadata": {},
     "output_type": "execute_result"
    }
   ],
   "source": [
    "clf = RandomForestClassifier(n_estimators = 100)  \n",
    "clf.fit(X_train, y_train)"
   ]
  },
  {
   "cell_type": "code",
   "execution_count": 18,
   "id": "97f089bc",
   "metadata": {},
   "outputs": [],
   "source": [
    "y_pred = clf.predict(x_test)"
   ]
  },
  {
   "cell_type": "code",
   "execution_count": 19,
   "id": "1705f73c",
   "metadata": {},
   "outputs": [
    {
     "name": "stdout",
     "output_type": "stream",
     "text": [
      "ACCURACY OF THE MODEL:  0.9940334128878282\n"
     ]
    }
   ],
   "source": [
    "from sklearn import metrics\n",
    "print(\"ACCURACY OF THE MODEL: \", metrics.accuracy_score(y_test, y_pred))"
   ]
  },
  {
   "cell_type": "code",
   "execution_count": 20,
   "id": "37680292",
   "metadata": {},
   "outputs": [
    {
     "name": "stdout",
     "output_type": "stream",
     "text": [
      "Confusion Matrix:\n",
      "[[ 74   3]\n",
      " [  2 759]]\n"
     ]
    }
   ],
   "source": [
    "from sklearn.metrics import confusion_matrix\n",
    "conf_matrix = confusion_matrix(y_test, y_pred)\n",
    "print(\"Confusion Matrix:\")\n",
    "print(conf_matrix)"
   ]
  },
  {
   "cell_type": "code",
   "execution_count": 21,
   "id": "ae26dda6",
   "metadata": {},
   "outputs": [],
   "source": [
    "from sklearn.metrics import classification_report, confusion_matrix, accuracy_score, roc_auc_score\n",
    "roc_auc = roc_auc_score(y_test, y_pred)\n",
    "conf_matrix = confusion_matrix(y_test, y_pred)\n",
    "accuracy = accuracy_score(y_test, y_pred)"
   ]
  },
  {
   "cell_type": "code",
   "execution_count": 22,
   "id": "803b7eee",
   "metadata": {},
   "outputs": [
    {
     "data": {
      "text/plain": [
       "0.9792054200727"
      ]
     },
     "execution_count": 22,
     "metadata": {},
     "output_type": "execute_result"
    }
   ],
   "source": [
    "roc_auc"
   ]
  },
  {
   "cell_type": "code",
   "execution_count": 23,
   "id": "fb508c74",
   "metadata": {},
   "outputs": [
    {
     "data": {
      "text/plain": [
       "array([[ 74,   3],\n",
       "       [  2, 759]], dtype=int64)"
      ]
     },
     "execution_count": 23,
     "metadata": {},
     "output_type": "execute_result"
    }
   ],
   "source": [
    "conf_matrix"
   ]
  },
  {
   "cell_type": "code",
   "execution_count": 24,
   "id": "51594009",
   "metadata": {},
   "outputs": [
    {
     "data": {
      "text/plain": [
       "0.9940334128878282"
      ]
     },
     "execution_count": 24,
     "metadata": {},
     "output_type": "execute_result"
    }
   ],
   "source": [
    "accuracy"
   ]
  },
  {
   "cell_type": "code",
   "execution_count": 25,
   "id": "336f5f62",
   "metadata": {},
   "outputs": [],
   "source": [
    "class_report = classification_report(y_test, y_pred)"
   ]
  },
  {
   "cell_type": "code",
   "execution_count": 26,
   "id": "ab68b301",
   "metadata": {},
   "outputs": [
    {
     "data": {
      "text/plain": [
       "'              precision    recall  f1-score   support\\n\\n           0       0.97      0.96      0.97        77\\n           1       1.00      1.00      1.00       761\\n\\n    accuracy                           0.99       838\\n   macro avg       0.98      0.98      0.98       838\\nweighted avg       0.99      0.99      0.99       838\\n'"
      ]
     },
     "execution_count": 26,
     "metadata": {},
     "output_type": "execute_result"
    }
   ],
   "source": [
    "class_report"
   ]
  },
  {
   "cell_type": "code",
   "execution_count": 27,
   "id": "5bebfa24",
   "metadata": {},
   "outputs": [],
   "source": [
    "import pickle"
   ]
  },
  {
   "cell_type": "code",
   "execution_count": 29,
   "id": "7dff93d8",
   "metadata": {},
   "outputs": [],
   "source": [
    "with open('model1.pkl', 'wb') as file:\n",
    "    pickle.dump(clf, file)"
   ]
  },
  {
   "cell_type": "code",
   "execution_count": 30,
   "id": "639f4440",
   "metadata": {},
   "outputs": [],
   "source": [
    "with open('model1.pkl', 'rb') as file:\n",
    "    loaded_model = pickle.load(file)"
   ]
  },
  {
   "cell_type": "code",
   "execution_count": 31,
   "id": "47662bda",
   "metadata": {},
   "outputs": [
    {
     "data": {
      "text/plain": [
       "(838, 10)"
      ]
     },
     "execution_count": 31,
     "metadata": {},
     "output_type": "execute_result"
    }
   ],
   "source": [
    "x_test.shape"
   ]
  },
  {
   "cell_type": "code",
   "execution_count": 32,
   "id": "6c29a4fb",
   "metadata": {},
   "outputs": [
    {
     "data": {
      "text/plain": [
       "array([1, 1, 1, 1, 1, 1, 1, 1, 1, 1, 1, 1, 1, 1, 1, 1, 1, 1, 1, 1, 1, 1,\n",
       "       1, 1, 1, 1, 1, 1, 1, 1, 1, 0, 1, 1, 1, 0, 0, 1, 1, 1, 1, 1, 1, 1,\n",
       "       1, 1, 1, 1, 1, 1, 1, 1, 1, 1, 1, 1, 1, 1, 1, 1, 1, 1, 1, 1, 1, 1,\n",
       "       1, 1, 1, 1, 1, 1, 1, 1, 1, 1, 1, 1, 1, 1, 1, 1, 1, 1, 1, 1, 1, 0,\n",
       "       1, 1, 1, 1, 1, 1, 1, 1, 1, 1, 1, 1, 1, 1, 1, 1, 1, 1, 1, 0, 1, 1,\n",
       "       1, 1, 0, 1, 0, 0, 1, 1, 1, 0, 1, 1, 1, 1, 1, 1, 0, 1, 1, 1, 1, 0,\n",
       "       1, 1, 1, 1, 1, 1, 0, 1, 1, 1, 1, 1, 1, 1, 1, 1, 1, 1, 1, 0, 0, 1,\n",
       "       1, 1, 1, 1, 1, 1, 1, 1, 1, 1, 1, 1, 0, 1, 1, 1, 1, 0, 1, 1, 1, 1,\n",
       "       1, 1, 1, 1, 1, 1, 1, 1, 1, 0, 1, 1, 1, 1, 1, 1, 1, 1, 1, 1, 1, 1,\n",
       "       1, 1, 1, 1, 1, 1, 1, 1, 1, 1, 1, 1, 1, 1, 1, 1, 1, 1, 1, 1, 1, 1,\n",
       "       1, 1, 1, 1, 1, 1, 1, 1, 1, 1, 1, 1, 0, 0, 1, 1, 1, 1, 1, 1, 1, 1,\n",
       "       1, 1, 1, 1, 1, 1, 0, 1, 1, 1, 1, 1, 1, 1, 1, 1, 1, 1, 1, 1, 1, 1,\n",
       "       1, 1, 1, 1, 1, 1, 1, 1, 1, 1, 1, 1, 0, 0, 1, 1, 1, 1, 1, 1, 1, 1,\n",
       "       1, 0, 1, 1, 1, 1, 1, 1, 1, 1, 1, 1, 1, 1, 1, 1, 1, 1, 1, 1, 1, 1,\n",
       "       1, 1, 0, 1, 1, 1, 1, 1, 1, 1, 1, 1, 1, 1, 1, 1, 1, 1, 1, 1, 1, 1,\n",
       "       1, 1, 1, 1, 1, 1, 1, 1, 1, 1, 1, 1, 1, 1, 1, 1, 1, 1, 1, 1, 1, 1,\n",
       "       1, 1, 1, 1, 1, 1, 1, 1, 1, 1, 1, 1, 1, 1, 1, 1, 0, 1, 1, 1, 1, 1,\n",
       "       1, 1, 1, 1, 1, 1, 1, 1, 0, 1, 1, 1, 1, 1, 0, 1, 1, 1, 1, 1, 1, 1,\n",
       "       0, 1, 1, 1, 1, 1, 1, 0, 1, 1, 0, 1, 0, 1, 1, 1, 1, 1, 1, 1, 1, 1,\n",
       "       0, 1, 1, 1, 1, 1, 0, 0, 1, 1, 1, 1, 1, 1, 1, 1, 1, 0, 1, 1, 1, 1,\n",
       "       1, 1, 1, 1, 1, 1, 1, 0, 1, 1, 1, 1, 1, 1, 1, 1, 1, 1, 1, 1, 1, 1,\n",
       "       1, 1, 1, 1, 1, 1, 1, 0, 1, 1, 0, 1, 1, 1, 1, 1, 1, 0, 1, 1, 1, 1,\n",
       "       1, 1, 0, 1, 1, 1, 1, 1, 1, 1, 1, 1, 1, 1, 1, 1, 1, 1, 0, 0, 1, 1,\n",
       "       1, 1, 0, 1, 1, 1, 1, 1, 1, 1, 1, 1, 1, 1, 1, 1, 1, 1, 0, 0, 1, 1,\n",
       "       1, 1, 0, 1, 1, 1, 0, 1, 1, 1, 1, 1, 1, 1, 1, 1, 1, 1, 1, 1, 1, 1,\n",
       "       1, 0, 1, 1, 0, 1, 1, 1, 1, 1, 1, 0, 1, 1, 0, 1, 1, 1, 1, 1, 0, 1,\n",
       "       1, 1, 1, 1, 1, 1, 1, 1, 1, 1, 1, 0, 1, 1, 1, 1, 1, 1, 1, 0, 1, 1,\n",
       "       1, 1, 1, 1, 1, 1, 1, 1, 0, 1, 1, 1, 1, 1, 0, 1, 1, 1, 1, 1, 1, 1,\n",
       "       0, 1, 1, 1, 1, 1, 1, 1, 1, 0, 1, 1, 1, 1, 1, 0, 1, 1, 1, 1, 1, 1,\n",
       "       1, 1, 1, 1, 1, 1, 1, 1, 1, 1, 1, 1, 1, 1, 1, 1, 1, 1, 1, 1, 1, 1,\n",
       "       1, 1, 1, 1, 1, 1, 1, 1, 1, 1, 1, 0, 1, 1, 0, 1, 1, 1, 1, 1, 1, 1,\n",
       "       1, 0, 1, 1, 1, 1, 1, 1, 1, 1, 1, 1, 1, 1, 1, 1, 1, 1, 1, 1, 1, 1,\n",
       "       1, 1, 1, 1, 1, 1, 1, 0, 1, 1, 1, 0, 1, 1, 1, 0, 1, 1, 1, 1, 1, 1,\n",
       "       1, 1, 1, 1, 0, 0, 1, 1, 1, 1, 1, 1, 1, 1, 1, 1, 1, 1, 1, 1, 1, 1,\n",
       "       1, 1, 1, 1, 1, 1, 1, 0, 1, 1, 1, 1, 1, 1, 0, 1, 1, 1, 1, 1, 1, 1,\n",
       "       1, 1, 0, 1, 1, 1, 1, 1, 1, 1, 1, 1, 0, 1, 0, 1, 1, 1, 0, 1, 1, 1,\n",
       "       1, 1, 1, 1, 1, 1, 1, 1, 1, 1, 1, 1, 1, 1, 1, 1, 1, 1, 1, 1, 1, 1,\n",
       "       1, 1, 1, 1, 1, 1, 1, 1, 1, 1, 0, 1, 1, 1, 1, 1, 1, 1, 1, 0, 1, 0,\n",
       "       1, 1])"
      ]
     },
     "execution_count": 32,
     "metadata": {},
     "output_type": "execute_result"
    }
   ],
   "source": [
    "clf1=loaded_model\n",
    "clf1.predict(x_test)"
   ]
  },
  {
   "cell_type": "code",
   "execution_count": 33,
   "id": "22104e57",
   "metadata": {},
   "outputs": [
    {
     "data": {
      "text/plain": [
       "'C:\\\\Users\\\\z032989\\\\AIA\\\\GET_Hack'"
      ]
     },
     "execution_count": 33,
     "metadata": {},
     "output_type": "execute_result"
    }
   ],
   "source": [
    "import os\n",
    "os.getcwd()"
   ]
  },
  {
   "cell_type": "code",
   "execution_count": null,
   "id": "9b732c61",
   "metadata": {},
   "outputs": [],
   "source": []
  }
 ],
 "metadata": {
  "kernelspec": {
   "display_name": "Python 3 (ipykernel)",
   "language": "python",
   "name": "python3"
  },
  "language_info": {
   "codemirror_mode": {
    "name": "ipython",
    "version": 3
   },
   "file_extension": ".py",
   "mimetype": "text/x-python",
   "name": "python",
   "nbconvert_exporter": "python",
   "pygments_lexer": "ipython3",
   "version": "3.9.16"
  }
 },
 "nbformat": 4,
 "nbformat_minor": 5
}
